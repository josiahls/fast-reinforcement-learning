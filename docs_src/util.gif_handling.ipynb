{
 "cells": [
  {
   "cell_type": "code",
   "execution_count": 3,
   "metadata": {
    "pycharm": {
     "is_executing": true
    }
   },
   "outputs": [],
   "source": [
    "import os\n",
    "from pathlib import Path\n",
    "from pygifsicle import optimize"
   ]
  },
  {
   "cell_type": "code",
   "execution_count": 14,
   "metadata": {},
   "outputs": [],
   "source": [
    "root_location='../res/run_gifs/'\n",
    "gif_list=list(filter(lambda x:x.__contains__('.gif'),os.listdir(root_location)))"
   ]
  },
  {
   "cell_type": "code",
   "execution_count": 22,
   "metadata": {},
   "outputs": [
    {
     "name": "stdout",
     "output_type": "stream",
     "text": [
      "lunarlander_ExperienceReplay_DQNModule_1_episode_999.gif\n",
      "5763851\n",
      "pendulum_ExperienceReplay_DDPGModule_1_episode_9.gif\n",
      "6137289\n",
      "ant_PriorityExperienceReplay_DDPGModule_1_episode_52.gif\n",
      "36778535\n",
      "acrobot_PriorityExperienceReplay_DDPGModule_1_episode_422.gif\n",
      "11609189\n",
      "lunarlander_ExperienceReplay_DoubleDQNModule_1_episode_999.gif\n",
      "30830092\n",
      "cartpole_ExperienceReplay_DuelingDQNModule_1_episode_209.gif\n",
      "10199465\n",
      "cartpole_ExperienceReplay_DoubleDuelingModule_1_episode_287.gif\n",
      "15570903\n",
      "cartpole_PriorityExperienceReplay_DQNModule_1_episode_216.gif\n",
      "15568358\n",
      "pendulum_ExperienceReplay_DDPGModule_1_episode_238.gif\n",
      "6207670\n",
      "cartpole_PriorityExperienceReplay_DQNModule_1_episode_413.gif\n",
      "15569273\n",
      "pendulum_PriorityExperienceReplay_DDPGModule_1_episode_222.gif\n",
      "6196534\n",
      "ant_PriorityExperienceReplay_DDPGModule_1_episode_596.gif\n",
      "38467938\n",
      "cartpole_ExperienceReplay_FixedTargetDQNModule_1_episode_438.gif\n",
      "15570906\n",
      "ant_ExperienceReplay_DDPGModule_1_episode_999.gif\n",
      "38440713\n",
      "cartpole_ExperienceReplay_DQNModule_1_episode_447.gif\n",
      "15568641\n",
      "cartpole_PriorityExperienceReplay_DuelingDQNModule_1_episode_272.gif\n",
      "12825806\n",
      "ant_ExperienceReplay_DDPGModule_1_episode_614.gif\n",
      "37835325\n",
      "lunarlander_ExperienceReplay_DoubleDuelingModule_1_episode_925.gif\n",
      "30479702\n",
      "cartpole_ExperienceReplay_FixedTargetDQNModule_1_episode_309.gif\n",
      "12057776\n",
      "pendulum_PriorityExperienceReplay_DDPGModule_1_episode_431.gif\n",
      "6286405\n",
      "pendulum_PriorityExperienceReplay_DDPGModule_1_episode_35.gif\n",
      "6134796\n",
      "lunarlander_PriorityExperienceReplay_DoubleDQNModule_1_episode_514.gif\n",
      "30584499\n",
      "cartpole_PriorityExperienceReplay_DoubleDQNModule_1_episode_269.gif\n",
      "6415006\n",
      "cartpole_PriorityExperienceReplay_FixedTargetDQNModule_1_episode_265.gif\n",
      "6786116\n",
      "ant_ExperienceReplay_DDPGModule_1_episode_54.gif\n",
      "38083113\n",
      "cartpole_ExperienceReplay_DQNModule_1_episode_207.gif\n",
      "15571349\n",
      "cartpole_ExperienceReplay_DuelingDQNModule_1_episode_432.gif\n",
      "15515122\n",
      "cartpole_ExperienceReplay_DoubleDQNModule_1_episode_438.gif\n",
      "10103383\n",
      "cartpole_PriorityExperienceReplay_DoubleDQNModule_1_episode_444.gif\n",
      "15459933\n",
      "cartpole_ExperienceReplay_DoubleDuelingModule_1_episode_447.gif\n",
      "15569151\n",
      "ant_PriorityExperienceReplay_DDPGModule_1_episode_984.gif\n",
      "37563630\n",
      "lunarlander_ExperienceReplay_DoubleDQNModule_1_episode_613.gif\n",
      "15766535\n",
      "lunarlander_ExperienceReplay_DuelingDQNModule_1_episode_980.gif\n",
      "30719225\n",
      "lunarlander_PriorityExperienceReplay_DoubleDuelingModule_1_episode_999.gif\n",
      "5376415\n",
      "pendulum_ExperienceReplay_DDPGModule_1_episode_447.gif\n",
      "6241684\n",
      "cartpole_ExperienceReplay_DoubleDQNModule_1_episode_268.gif\n",
      "15578381\n"
     ]
    }
   ],
   "source": [
    "for g_i in gif_list:\n",
    "    # 2,600,000== 2.6 mb\n",
    "    if Path(root_location+g_i).stat().st_size > 5000000:\n",
    "        print(g_i)\n",
    "        print(Path(root_location+g_i).stat().st_size)\n",
    "        optimize(str(Path(root_location+g_i)))"
   ]
  },
  {
   "cell_type": "code",
   "execution_count": null,
   "metadata": {},
   "outputs": [],
   "source": []
  }
 ],
 "metadata": {
  "kernelspec": {
   "display_name": "Python 3",
   "language": "python",
   "name": "python3"
  },
  "language_info": {
   "codemirror_mode": {
    "name": "ipython",
    "version": 3
   },
   "file_extension": ".py",
   "mimetype": "text/x-python",
   "name": "python",
   "nbconvert_exporter": "python",
   "pygments_lexer": "ipython3",
   "version": "3.6.9"
  }
 },
 "nbformat": 4,
 "nbformat_minor": 1
}
