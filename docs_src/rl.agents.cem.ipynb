{
 "cells": [
  {
   "cell_type": "code",
   "execution_count": 1,
   "metadata": {
    "pycharm": {
     "is_executing": false
    }
   },
   "outputs": [
    {
     "name": "stdout",
     "output_type": "stream",
     "text": [
      "Can't import one of these: No module named 'pybullet'\n",
      "pygame 2.0.0.dev6 (SDL 2.0.10, python 3.6.7)\n",
      "Hello from the pygame community. https://www.pygame.org/contribute.html\n",
      "Can't import one of these: No module named 'gym_minigrid'\n"
     ]
    }
   ],
   "source": [
    "from fastai.tabular.data import emb_sz_rule\n",
    "from fast_rl.agents.cem import CEMLearner, CEMTrainer\n",
    "from fast_rl.agents.cem_models import CEMModel\n",
    "from fast_rl.core.data_block import MDPDataBunch\n",
    "import numpy as np\n",
    "from fast_rl.core.metrics import RewardMetric, RollingRewardMetric"
   ]
  },
  {
   "cell_type": "code",
   "execution_count": null,
   "metadata": {},
   "outputs": [],
   "source": []
  }
 ],
 "metadata": {
  "kernelspec": {
   "display_name": "Python 3",
   "language": "python",
   "name": "python3"
  },
  "language_info": {
   "codemirror_mode": {
    "name": "ipython",
    "version": 3
   },
   "file_extension": ".py",
   "mimetype": "text/x-python",
   "name": "python",
   "nbconvert_exporter": "python",
   "pygments_lexer": "ipython3",
   "version": "3.6.7"
  }
 },
 "nbformat": 4,
 "nbformat_minor": 1
}
